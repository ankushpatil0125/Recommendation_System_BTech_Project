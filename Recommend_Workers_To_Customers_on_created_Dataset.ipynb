{
 "cells": [
  {
   "cell_type": "code",
   "execution_count": 1,
   "metadata": {},
   "outputs": [],
   "source": [
    "import pandas as pd"
   ]
  },
  {
   "cell_type": "code",
   "execution_count": 2,
   "metadata": {},
   "outputs": [],
   "source": [
    "import numpy as np"
   ]
  },
  {
   "cell_type": "code",
   "execution_count": 3,
   "metadata": {},
   "outputs": [],
   "source": [
    "from sklearn.metrics.pairwise import cosine_similarity"
   ]
  },
  {
   "cell_type": "code",
   "execution_count": 4,
   "metadata": {},
   "outputs": [],
   "source": [
    "from sklearn.feature_extraction.text import CountVectorizer"
   ]
  },
  {
   "cell_type": "code",
   "execution_count": 5,
   "metadata": {},
   "outputs": [],
   "source": [
    "df=pd.read_csv(r\"C:\\Users\\Admin\\Documents\\SEM 5 CLG\\AI\\FINAL_DATA.csv\", sep=',', encoding='windows-1252')"
   ]
  },
  {
   "cell_type": "code",
   "execution_count": 6,
   "metadata": {},
   "outputs": [
    {
     "data": {
      "text/html": [
       "<div>\n",
       "<style scoped>\n",
       "    .dataframe tbody tr th:only-of-type {\n",
       "        vertical-align: middle;\n",
       "    }\n",
       "\n",
       "    .dataframe tbody tr th {\n",
       "        vertical-align: top;\n",
       "    }\n",
       "\n",
       "    .dataframe thead th {\n",
       "        text-align: right;\n",
       "    }\n",
       "</style>\n",
       "<table border=\"1\" class=\"dataframe\">\n",
       "  <thead>\n",
       "    <tr style=\"text-align: right;\">\n",
       "      <th></th>\n",
       "      <th>worker name</th>\n",
       "      <th>job title</th>\n",
       "      <th>skills</th>\n",
       "      <th>rating</th>\n",
       "      <th>location</th>\n",
       "    </tr>\n",
       "  </thead>\n",
       "  <tbody>\n",
       "    <tr>\n",
       "      <th>0</th>\n",
       "      <td>Sonnnie Belham</td>\n",
       "      <td>electrician</td>\n",
       "      <td>solve all electrical issues</td>\n",
       "      <td>4</td>\n",
       "      <td>3 East Parkway</td>\n",
       "    </tr>\n",
       "    <tr>\n",
       "      <th>1</th>\n",
       "      <td>Brendon Axleby</td>\n",
       "      <td>accountant</td>\n",
       "      <td>accounting</td>\n",
       "      <td>4</td>\n",
       "      <td>1772 Orin Point</td>\n",
       "    </tr>\n",
       "    <tr>\n",
       "      <th>2</th>\n",
       "      <td>Quentin Calcut</td>\n",
       "      <td>painter</td>\n",
       "      <td>painting houses,buildings</td>\n",
       "      <td>1</td>\n",
       "      <td>217 Arapahoe Lane</td>\n",
       "    </tr>\n",
       "    <tr>\n",
       "      <th>3</th>\n",
       "      <td>Glenine Drayton</td>\n",
       "      <td>shop worker</td>\n",
       "      <td>working in various shops</td>\n",
       "      <td>0</td>\n",
       "      <td>57224 Maryland Terrace</td>\n",
       "    </tr>\n",
       "    <tr>\n",
       "      <th>4</th>\n",
       "      <td>Neel Lodewick</td>\n",
       "      <td>washing machine repairing</td>\n",
       "      <td>repair all types of washing machines</td>\n",
       "      <td>0</td>\n",
       "      <td>43 Scoville Road</td>\n",
       "    </tr>\n",
       "    <tr>\n",
       "      <th>5</th>\n",
       "      <td>Roderich Desouza</td>\n",
       "      <td>carpenter</td>\n",
       "      <td>furniture making</td>\n",
       "      <td>0</td>\n",
       "      <td>5192 Cambridge Crossing</td>\n",
       "    </tr>\n",
       "    <tr>\n",
       "      <th>6</th>\n",
       "      <td>Bunnie McElvogue</td>\n",
       "      <td>cleaning worker</td>\n",
       "      <td>cleaning</td>\n",
       "      <td>0</td>\n",
       "      <td>8 West Crossing</td>\n",
       "    </tr>\n",
       "    <tr>\n",
       "      <th>7</th>\n",
       "      <td>Warren Light</td>\n",
       "      <td>baker</td>\n",
       "      <td>cook cakes,creativity,skilled in using ovens</td>\n",
       "      <td>1</td>\n",
       "      <td>9 Emmet Crossing</td>\n",
       "    </tr>\n",
       "    <tr>\n",
       "      <th>8</th>\n",
       "      <td>Odetta How to preserve</td>\n",
       "      <td>shop worker</td>\n",
       "      <td>working in various shops</td>\n",
       "      <td>2</td>\n",
       "      <td>6628 Ohio Terrace</td>\n",
       "    </tr>\n",
       "    <tr>\n",
       "      <th>9</th>\n",
       "      <td>Siffre Chitter</td>\n",
       "      <td>care taker</td>\n",
       "      <td>taking care of old people and small children</td>\n",
       "      <td>3</td>\n",
       "      <td>25 Pankratz Place</td>\n",
       "    </tr>\n",
       "  </tbody>\n",
       "</table>\n",
       "</div>"
      ],
      "text/plain": [
       "              worker name                  job title  \\\n",
       "0          Sonnnie Belham                electrician   \n",
       "1          Brendon Axleby                accountant    \n",
       "2          Quentin Calcut                    painter   \n",
       "3         Glenine Drayton                shop worker   \n",
       "4           Neel Lodewick  washing machine repairing   \n",
       "5        Roderich Desouza                  carpenter   \n",
       "6        Bunnie McElvogue            cleaning worker   \n",
       "7            Warren Light                      baker   \n",
       "8  Odetta How to preserve                shop worker   \n",
       "9          Siffre Chitter                 care taker   \n",
       "\n",
       "                                         skills  rating  \\\n",
       "0                  solve all electrical issues        4   \n",
       "1                                   accounting        4   \n",
       "2                    painting houses,buildings        1   \n",
       "3                      working in various shops       0   \n",
       "4          repair all types of washing machines       0   \n",
       "5                             furniture making        0   \n",
       "6                                      cleaning       0   \n",
       "7  cook cakes,creativity,skilled in using ovens       1   \n",
       "8                      working in various shops       2   \n",
       "9  taking care of old people and small children       3   \n",
       "\n",
       "                  location  \n",
       "0           3 East Parkway  \n",
       "1          1772 Orin Point  \n",
       "2        217 Arapahoe Lane  \n",
       "3   57224 Maryland Terrace  \n",
       "4         43 Scoville Road  \n",
       "5  5192 Cambridge Crossing  \n",
       "6          8 West Crossing  \n",
       "7         9 Emmet Crossing  \n",
       "8        6628 Ohio Terrace  \n",
       "9        25 Pankratz Place  "
      ]
     },
     "execution_count": 6,
     "metadata": {},
     "output_type": "execute_result"
    }
   ],
   "source": [
    "df.head(10)"
   ]
  },
  {
   "cell_type": "code",
   "execution_count": 7,
   "metadata": {},
   "outputs": [],
   "source": [
    "df['job title']=df['job title'].str.strip()\n",
    "df['job title']=df['job title'].str.lower()\n",
    "df['skills']=df['skills'].str.strip()\n",
    "df['skills']=df['skills'].str.lower()\n"
   ]
  },
  {
   "cell_type": "code",
   "execution_count": 8,
   "metadata": {},
   "outputs": [],
   "source": [
    "from sklearn.feature_extraction.text import TfidfVectorizer\n",
    "\n",
    "tfv=TfidfVectorizer(min_df=3, max_features=None,\n",
    "                   strip_accents='unicode',analyzer='word',token_pattern=r'\\w{1,}\\S',\n",
    "                   ngram_range=(1,3),\n",
    "                   stop_words='english')\n",
    "df['job title']=df['job title'].fillna('')\n",
    "df['skills']=df['skills'].fillna('')\n",
    "df['Job']=df['job title']+\" \"+df['skills']"
   ]
  },
  {
   "cell_type": "code",
   "execution_count": 9,
   "metadata": {},
   "outputs": [],
   "source": [
    "tfv_matrix=tfv.fit_transform(df['Job'])"
   ]
  },
  {
   "cell_type": "code",
   "execution_count": 10,
   "metadata": {},
   "outputs": [
    {
     "data": {
      "text/plain": [
       "<500x275 sparse matrix of type '<class 'numpy.float64'>'\n",
       "\twith 4780 stored elements in Compressed Sparse Row format>"
      ]
     },
     "execution_count": 10,
     "metadata": {},
     "output_type": "execute_result"
    }
   ],
   "source": [
    "tfv_matrix"
   ]
  },
  {
   "cell_type": "code",
   "execution_count": 11,
   "metadata": {},
   "outputs": [],
   "source": [
    "from sklearn.metrics.pairwise import sigmoid_kernel\n",
    "\n",
    "sig=sigmoid_kernel(tfv_matrix,tfv_matrix)"
   ]
  },
  {
   "cell_type": "code",
   "execution_count": 12,
   "metadata": {},
   "outputs": [
    {
     "data": {
      "text/plain": [
       "array([0.76311711, 0.76159416, 0.76159416, 0.76159416, 0.76159416,\n",
       "       0.76159416, 0.76159416, 0.76159416, 0.76159416, 0.76159416,\n",
       "       0.76311711, 0.76159416, 0.76159416, 0.76159416, 0.76159416,\n",
       "       0.76159416, 0.76159416, 0.76159416, 0.76159416, 0.76159416,\n",
       "       0.76159416, 0.76159416, 0.76159416, 0.76159416, 0.76159416,\n",
       "       0.76159416, 0.76159416, 0.76159416, 0.76159416, 0.76159416,\n",
       "       0.76159416, 0.76169088, 0.76159416, 0.76159416, 0.76159416,\n",
       "       0.76159416, 0.76159416, 0.76311711, 0.76159416, 0.76159416,\n",
       "       0.76159416, 0.76159416, 0.76159416, 0.76159416, 0.76159416,\n",
       "       0.76159416, 0.76169088, 0.76159416, 0.76311711, 0.76159416,\n",
       "       0.76159416, 0.76159416, 0.76159416, 0.76159416, 0.76159416,\n",
       "       0.76159416, 0.76159416, 0.76159416, 0.76159416, 0.76159416,\n",
       "       0.76159416, 0.76159416, 0.76159416, 0.76159416, 0.76159416,\n",
       "       0.76169088, 0.76311711, 0.76159416, 0.76159416, 0.76159416,\n",
       "       0.76159416, 0.76159416, 0.76159416, 0.76159416, 0.76159416,\n",
       "       0.76159416, 0.76159416, 0.76159416, 0.76159416, 0.76159416,\n",
       "       0.76159416, 0.76159416, 0.76159416, 0.76159416, 0.76159416,\n",
       "       0.76159416, 0.76159416, 0.76159416, 0.76311711, 0.76159416,\n",
       "       0.76159416, 0.76159416, 0.76159416, 0.76159416, 0.76159416,\n",
       "       0.76159416, 0.76159416, 0.76169088, 0.76159416, 0.76159416,\n",
       "       0.76159416, 0.76159416, 0.76159416, 0.76159416, 0.76159416,\n",
       "       0.76159416, 0.76159416, 0.76159416, 0.76159416, 0.76159416,\n",
       "       0.76159416, 0.76159416, 0.76311711, 0.76159416, 0.76159416,\n",
       "       0.76159416, 0.76159416, 0.76159416, 0.76159416, 0.76159416,\n",
       "       0.76159416, 0.76159416, 0.76159416, 0.76159416, 0.76159416,\n",
       "       0.76159416, 0.76159416, 0.76159416, 0.76159416, 0.76159416,\n",
       "       0.76159416, 0.76159416, 0.76159416, 0.76159416, 0.76159416,\n",
       "       0.76159416, 0.76159416, 0.76159416, 0.76159416, 0.76159416,\n",
       "       0.76159416, 0.76159416, 0.76159416, 0.76159416, 0.76159416,\n",
       "       0.76159416, 0.76159416, 0.76169088, 0.76159416, 0.76159416,\n",
       "       0.76159416, 0.76159416, 0.76159416, 0.76159416, 0.76159416,\n",
       "       0.76159416, 0.76159416, 0.76159416, 0.76159416, 0.76159416,\n",
       "       0.76159416, 0.76159416, 0.76159416, 0.76159416, 0.76159416,\n",
       "       0.76159416, 0.76159416, 0.76159416, 0.76159416, 0.76159416,\n",
       "       0.76159416, 0.76159416, 0.76159416, 0.76159416, 0.76159416,\n",
       "       0.76159416, 0.76159416, 0.76159416, 0.76159416, 0.76159416,\n",
       "       0.76159416, 0.76159416, 0.76159416, 0.76159416, 0.76159416,\n",
       "       0.76159416, 0.76159416, 0.76159416, 0.76159416, 0.76159416,\n",
       "       0.76159416, 0.76159416, 0.76159416, 0.76159416, 0.76159416,\n",
       "       0.76159416, 0.76159416, 0.76159416, 0.76159416, 0.76159416,\n",
       "       0.76159416, 0.76159416, 0.76159416, 0.76159416, 0.76159416,\n",
       "       0.76159416, 0.76159416, 0.76159416, 0.76159416, 0.76159416,\n",
       "       0.76159416, 0.76159416, 0.76159416, 0.76159416, 0.76159416,\n",
       "       0.76159416, 0.76159416, 0.76159416, 0.76159416, 0.76159416,\n",
       "       0.76159416, 0.76159416, 0.76159416, 0.76159416, 0.76159416,\n",
       "       0.76159416, 0.76159416, 0.76159416, 0.76159416, 0.76159416,\n",
       "       0.76159416, 0.76159416, 0.76159416, 0.76159416, 0.76159416,\n",
       "       0.76159416, 0.76159416, 0.76159416, 0.76159416, 0.76159416,\n",
       "       0.76159416, 0.76159416, 0.76159416, 0.76159416, 0.76159416,\n",
       "       0.76159416, 0.76159416, 0.76159416, 0.76159416, 0.76159416,\n",
       "       0.76159416, 0.76159416, 0.76159416, 0.76159416, 0.76159416,\n",
       "       0.76159416, 0.76159416, 0.76159416, 0.76159416, 0.76159416,\n",
       "       0.76159416, 0.76159416, 0.76159416, 0.76159416, 0.76159416,\n",
       "       0.76159416, 0.76159416, 0.76159416, 0.76159416, 0.76159416,\n",
       "       0.76159416, 0.76159416, 0.76159416, 0.76159416, 0.76159416,\n",
       "       0.76159416, 0.76159416, 0.76159416, 0.76159416, 0.76159416,\n",
       "       0.76159416, 0.76159416, 0.76159416, 0.76159416, 0.76159416,\n",
       "       0.76159416, 0.76159416, 0.76159416, 0.76159416, 0.76159416,\n",
       "       0.76159416, 0.76159416, 0.76159416, 0.76159416, 0.76159416,\n",
       "       0.76159416, 0.76159416, 0.76159416, 0.76159416, 0.76159416,\n",
       "       0.76159416, 0.76159416, 0.76159416, 0.76159416, 0.76159416,\n",
       "       0.76159416, 0.76159416, 0.76159416, 0.76159416, 0.76159416,\n",
       "       0.76159416, 0.76159416, 0.76159416, 0.76159416, 0.76159416,\n",
       "       0.76159416, 0.76159416, 0.76159416, 0.76159416, 0.76159416,\n",
       "       0.76159416, 0.76159416, 0.76159416, 0.76159416, 0.76159416,\n",
       "       0.76159416, 0.76159416, 0.76159416, 0.76159416, 0.76159416,\n",
       "       0.76159416, 0.76159416, 0.76159416, 0.76159416, 0.76311711,\n",
       "       0.76159416, 0.76159416, 0.76159416, 0.76159416, 0.76159416,\n",
       "       0.76159416, 0.76159416, 0.76159416, 0.76159416, 0.76159416,\n",
       "       0.76159416, 0.76159416, 0.76159416, 0.76159416, 0.76159416,\n",
       "       0.76159416, 0.76159416, 0.76159416, 0.76159416, 0.76159416,\n",
       "       0.76159416, 0.76159416, 0.76159416, 0.76159416, 0.76159416,\n",
       "       0.76159416, 0.76159416, 0.76159416, 0.76159416, 0.76159416,\n",
       "       0.76159416, 0.76159416, 0.76159416, 0.76159416, 0.76159416,\n",
       "       0.76159416, 0.76159416, 0.76159416, 0.76159416, 0.76159416,\n",
       "       0.76159416, 0.76159416, 0.76159416, 0.76159416, 0.76159416,\n",
       "       0.76159416, 0.76159416, 0.76159416, 0.76159416, 0.76159416,\n",
       "       0.76159416, 0.76159416, 0.76159416, 0.76159416, 0.76159416,\n",
       "       0.76159416, 0.76159416, 0.76159416, 0.76159416, 0.76159416,\n",
       "       0.76159416, 0.76159416, 0.76159416, 0.76159416, 0.76159416,\n",
       "       0.76159416, 0.76159416, 0.76159416, 0.76159416, 0.76159416,\n",
       "       0.76159416, 0.76159416, 0.76159416, 0.76159416, 0.76159416,\n",
       "       0.76159416, 0.76159416, 0.76159416, 0.76159416, 0.76159416,\n",
       "       0.76159416, 0.76159416, 0.76159416, 0.76159416, 0.76159416,\n",
       "       0.76159416, 0.76159416, 0.76159416, 0.76159416, 0.76159416,\n",
       "       0.76159416, 0.76159416, 0.76159416, 0.76159416, 0.76159416,\n",
       "       0.76159416, 0.76159416, 0.76159416, 0.76159416, 0.76159416,\n",
       "       0.76159416, 0.76159416, 0.76159416, 0.76159416, 0.76159416,\n",
       "       0.76159416, 0.76159416, 0.76159416, 0.76159416, 0.76159416,\n",
       "       0.76159416, 0.76159416, 0.76159416, 0.76169088, 0.76159416,\n",
       "       0.76159416, 0.76159416, 0.76311711, 0.76159416, 0.76159416,\n",
       "       0.76159416, 0.76159416, 0.76159416, 0.76159416, 0.76159416,\n",
       "       0.76159416, 0.76159416, 0.76159416, 0.76159416, 0.76159416,\n",
       "       0.76159416, 0.76159416, 0.76159416, 0.76159416, 0.76159416,\n",
       "       0.76159416, 0.76159416, 0.76159416, 0.76159416, 0.76159416,\n",
       "       0.76159416, 0.76159416, 0.76159416, 0.76169088, 0.76159416,\n",
       "       0.76159416, 0.76159416, 0.76159416, 0.76159416, 0.76159416,\n",
       "       0.76159416, 0.76159416, 0.76159416, 0.76159416, 0.76159416,\n",
       "       0.76159416, 0.76159416, 0.76159416, 0.76159416, 0.76159416,\n",
       "       0.76159416, 0.76159416, 0.76159416, 0.76159416, 0.76311711])"
      ]
     },
     "execution_count": 12,
     "metadata": {},
     "output_type": "execute_result"
    }
   ],
   "source": [
    "sig[0]"
   ]
  },
  {
   "cell_type": "code",
   "execution_count": 13,
   "metadata": {},
   "outputs": [
    {
     "name": "stdout",
     "output_type": "stream",
     "text": [
      "Int64Index([  0,   1,   2,   3,   4,   5,   6,   7,   9,  12,  14,  16,  19,\n",
      "             21,  29,  31,  32,  33,  35,  50,  51,  63,  76,  90,  94, 114,\n",
      "            119, 124, 130, 148, 151, 157, 162, 166, 181, 211, 212, 221, 227,\n",
      "            245, 246, 264, 276, 285, 298, 304, 345, 384, 399, 407, 417],\n",
      "           dtype='int64')\n"
     ]
    }
   ],
   "source": [
    "ind=pd.Series(df['job title']).drop_duplicates(keep='first')\n",
    "print(ind.index)"
   ]
  },
  {
   "cell_type": "code",
   "execution_count": 14,
   "metadata": {},
   "outputs": [],
   "source": [
    "index_=ind\n",
    "indices=pd.Series(ind.index)\n",
    "indices.index=index_"
   ]
  },
  {
   "cell_type": "code",
   "execution_count": 15,
   "metadata": {},
   "outputs": [
    {
     "data": {
      "text/plain": [
       "job title\n",
       "electrician                    0\n",
       "accountant                     1\n",
       "painter                        2\n",
       "shop worker                    3\n",
       "washing machine repairing      4\n",
       "carpenter                      5\n",
       "cleaning worker                6\n",
       "baker                          7\n",
       "care taker                     9\n",
       "web developer                 12\n",
       "app developer                 14\n",
       "architect                     16\n",
       "tester                        19\n",
       "plumber                       21\n",
       "bartender                     29\n",
       "social worker                 31\n",
       "mobile repairing              32\n",
       "software architect            33\n",
       "sweeper                       35\n",
       "barber                        50\n",
       "masseur                       51\n",
       "automobile repairing          63\n",
       "broiler cook                  76\n",
       "tv repairing                  90\n",
       "catering manager              94\n",
       "washing machine              114\n",
       "farmworker                   119\n",
       "beautician                   124\n",
       "cooking                      130\n",
       "executive cook               148\n",
       "fridge repairing             151\n",
       "yoga instructor              157\n",
       "cooler repairing             162\n",
       "fry/saute cook               166\n",
       "kitchen manager              181\n",
       "pantry cook                  211\n",
       "locksmith                    212\n",
       "mechanic                     221\n",
       "soup and sauce cook          227\n",
       "bus person                   245\n",
       "truck driver                 246\n",
       "taxi driver                  264\n",
       "welding                      276\n",
       "truck                        285\n",
       "waiter                       298\n",
       "housekeeper                  304\n",
       "delivery boy                 345\n",
       "line cook                    384\n",
       "butcher cook                 399\n",
       "school bus truck             407\n",
       "fish cook                    417\n",
       "dtype: int64"
      ]
     },
     "execution_count": 15,
     "metadata": {},
     "output_type": "execute_result"
    }
   ],
   "source": [
    "indices"
   ]
  },
  {
   "cell_type": "code",
   "execution_count": 16,
   "metadata": {},
   "outputs": [],
   "source": [
    "def give_rec(title , sig=sig):\n",
    "    try:\n",
    "        idx=indices[title]\n",
    "        sig_scores=list(enumerate(sig[idx]))\n",
    "        sig_scores=sorted(sig_scores, key=lambda x: x[1],reverse=True)\n",
    "        sig_scores=sig_scores[1:8]\n",
    "        customer_indices =[i[0] for i in sig_scores]\n",
    "        values=df.iloc[customer_indices]\n",
    "        #values.sort_values(by = 'Experience' ,ascending=False)\n",
    "       # return df.iloc[customer_indices]\n",
    "        return values.sort_values(by = 'rating' ,ascending=False)\n",
    "    except:\n",
    "        contain_values=df[df['Job'].str.contains(title)]\n",
    "        id=contain_values.index\n",
    "        df.loc[id]\n",
    "        print(len(id))\n",
    "        if len(id)<10:\n",
    "            for j in range(0,len(id)): \n",
    "                if j==0:\n",
    "                    idx=id[j]\n",
    "                    sig_scores2=list(enumerate(sig[idx]))\n",
    "                    sig_scores2=sorted(sig_scores2, key=lambda x: x[1],reverse=True)\n",
    "                    sig_scores=sig_scores2[1:5]\n",
    "                else:\n",
    "                    idx=id[j]\n",
    "                    sig_scores2=list(enumerate(sig[idx]))\n",
    "                    sig_scores2=sorted(sig_scores2, key=lambda x: x[1],reverse=True)\n",
    "                    sig_scores=sig_scores+sig_scores2[1:3]\n",
    "        else:\n",
    "            for j in range(4,9): \n",
    "                if j==4:\n",
    "                    idx=id[j]\n",
    "                    sig_scores2=list(enumerate(sig[idx]))\n",
    "                    sig_scores2=sorted(sig_scores2, key=lambda x: x[1],reverse=True)\n",
    "                    sig_scores=sig_scores2[1:5]\n",
    "                else:\n",
    "                    idx=id[j]\n",
    "                    sig_scores2=list(enumerate(sig[idx]))\n",
    "                    sig_scores2=sorted(sig_scores2, key=lambda x: x[1],reverse=True)\n",
    "                    sig_scores=sig_scores+sig_scores2[1:2]\n",
    "        customer_indices=[i[0] for i in sig_scores]\n",
    "        value=df.iloc[customer_indices]\n",
    "        print(value.sort_values(by = 'rating' ,ascending=False))"
   ]
  },
  {
   "cell_type": "code",
   "execution_count": 17,
   "metadata": {},
   "outputs": [
    {
     "name": "stdout",
     "output_type": "stream",
     "text": [
      "6\n",
      "             worker name                  job title  \\\n",
      "202          Leah Shayes            washing machine   \n",
      "162           Thea Loidl           cooler repairing   \n",
      "162           Thea Loidl           cooler repairing   \n",
      "114       Barret Kiessel            washing machine   \n",
      "63      Krystalle Kaplin       automobile repairing   \n",
      "63      Krystalle Kaplin       automobile repairing   \n",
      "63      Krystalle Kaplin       automobile repairing   \n",
      "184  Amelie Bickerstasse            washing machine   \n",
      "90            Dolf Diack               tv repairing   \n",
      "90            Dolf Diack               tv repairing   \n",
      "135      Janene Bernette            washing machine   \n",
      "151     Loralee Saltrese           fridge repairing   \n",
      "4          Neel Lodewick  washing machine repairing   \n",
      "32       Carly Edlington           mobile repairing   \n",
      "\n",
      "                                          skills  rating  \\\n",
      "202                all types of washing machines       5   \n",
      "162     motor exchange,cooling pad repairing etc       5   \n",
      "162     motor exchange,cooling pad repairing etc       5   \n",
      "114         repair all types of washing machines       4   \n",
      "63             tyre exchange,puncture,oiling,etc       4   \n",
      "63             tyre exchange,puncture,oiling,etc       4   \n",
      "63             tyre exchange,puncture,oiling,etc       4   \n",
      "184                all types of washing machines       3   \n",
      "90                     all types of led's and tv       3   \n",
      "90                     all types of led's and tv       3   \n",
      "135         repair all types of washing machines       2   \n",
      "151  repair not cooling issue,defrost system,etc       0   \n",
      "4           repair all types of washing machines       0   \n",
      "32            repair all types of mobile devices       0   \n",
      "\n",
      "                     location  \\\n",
      "202    9512 Londonderry Plaza   \n",
      "162           71 Oxford Alley   \n",
      "162           71 Oxford Alley   \n",
      "114      5588 New Castle Road   \n",
      "63             57 Surrey Park   \n",
      "63             57 Surrey Park   \n",
      "63             57 Surrey Park   \n",
      "184  645 International Circle   \n",
      "90             0 Quincy Alley   \n",
      "90             0 Quincy Alley   \n",
      "135          295 Warrior Hill   \n",
      "151       626 Fieldstone Park   \n",
      "4            43 Scoville Road   \n",
      "32       9001 Kinsman Terrace   \n",
      "\n",
      "                                                   Job  \n",
      "202      washing machine all types of washing machines  \n",
      "162  cooler repairing motor exchange,cooling pad re...  \n",
      "162  cooler repairing motor exchange,cooling pad re...  \n",
      "114  washing machine repair all types of washing ma...  \n",
      "63   automobile repairing tyre exchange,puncture,oi...  \n",
      "63   automobile repairing tyre exchange,puncture,oi...  \n",
      "63   automobile repairing tyre exchange,puncture,oi...  \n",
      "184      washing machine all types of washing machines  \n",
      "90              tv repairing all types of led's and tv  \n",
      "90              tv repairing all types of led's and tv  \n",
      "135  washing machine repair all types of washing ma...  \n",
      "151  fridge repairing repair not cooling issue,defr...  \n",
      "4    washing machine repairing repair all types of ...  \n",
      "32   mobile repairing repair all types of mobile de...  \n"
     ]
    }
   ],
   "source": [
    "give_rec('repairing')"
   ]
  },
  {
   "cell_type": "code",
   "execution_count": 18,
   "metadata": {},
   "outputs": [
    {
     "name": "stdout",
     "output_type": "stream",
     "text": [
      "8\n",
      "            worker name     job title  \\\n",
      "264          Elysee Fri   taxi driver   \n",
      "278  Felisha Nan Carrow   taxi driver   \n",
      "278  Felisha Nan Carrow   taxi driver   \n",
      "278  Felisha Nan Carrow   taxi driver   \n",
      "318       Carissa Stubs  truck driver   \n",
      "318       Carissa Stubs  truck driver   \n",
      "318       Carissa Stubs  truck driver   \n",
      "318       Carissa Stubs  truck driver   \n",
      "318       Carissa Stubs  truck driver   \n",
      "274   Joaquin Galbraeth  truck driver   \n",
      "274   Joaquin Galbraeth  truck driver   \n",
      "467      Veradis Essery  truck driver   \n",
      "338     Joshuah Hansill  truck driver   \n",
      "338     Joshuah Hansill  truck driver   \n",
      "338     Joshuah Hansill  truck driver   \n",
      "338     Joshuah Hansill  truck driver   \n",
      "360        Arvy Crowden  truck driver   \n",
      "338     Joshuah Hansill  truck driver   \n",
      "\n",
      "                                          skills  rating  \\\n",
      "264              can drive any type of 4 whiller       5   \n",
      "278                             for one day trip       4   \n",
      "278                             for one day trip       4   \n",
      "278                             for one day trip       4   \n",
      "318  driving skill, excellent hearing and vision       2   \n",
      "318  driving skill, excellent hearing and vision       2   \n",
      "318  driving skill, excellent hearing and vision       2   \n",
      "318  driving skill, excellent hearing and vision       2   \n",
      "318  driving skill, excellent hearing and vision       2   \n",
      "274                for long route transportation       1   \n",
      "274                for long route transportation       1   \n",
      "467  driving skill, excellent hearing and vision       1   \n",
      "338  driving skill, excellent hearing and vision       0   \n",
      "338  driving skill, excellent hearing and vision       0   \n",
      "338  driving skill, excellent hearing and vision       0   \n",
      "338  driving skill, excellent hearing and vision       0   \n",
      "360  driving skill, excellent hearing and vision       0   \n",
      "338  driving skill, excellent hearing and vision       0   \n",
      "\n",
      "                 location                                                Job  \n",
      "264        765 Dahle Lane        taxi driver can drive any type of 4 whiller  \n",
      "278   3404 Sunbrook Point                       taxi driver for one day trip  \n",
      "278   3404 Sunbrook Point                       taxi driver for one day trip  \n",
      "278   3404 Sunbrook Point                       taxi driver for one day trip  \n",
      "318          8 Erie Place  truck driver driving skill, excellent hearing ...  \n",
      "318          8 Erie Place  truck driver driving skill, excellent hearing ...  \n",
      "318          8 Erie Place  truck driver driving skill, excellent hearing ...  \n",
      "318          8 Erie Place  truck driver driving skill, excellent hearing ...  \n",
      "318          8 Erie Place  truck driver driving skill, excellent hearing ...  \n",
      "274      494 Summit Drive         truck driver for long route transportation  \n",
      "274      494 Summit Drive         truck driver for long route transportation  \n",
      "467     2 Sycamore Circle  truck driver driving skill, excellent hearing ...  \n",
      "338  71 Saint Paul Street  truck driver driving skill, excellent hearing ...  \n",
      "338  71 Saint Paul Street  truck driver driving skill, excellent hearing ...  \n",
      "338  71 Saint Paul Street  truck driver driving skill, excellent hearing ...  \n",
      "338  71 Saint Paul Street  truck driver driving skill, excellent hearing ...  \n",
      "360    0 Ridge Oak Center  truck driver driving skill, excellent hearing ...  \n",
      "338  71 Saint Paul Street  truck driver driving skill, excellent hearing ...  \n"
     ]
    }
   ],
   "source": [
    "give_rec('driver')"
   ]
  },
  {
   "cell_type": "code",
   "execution_count": 19,
   "metadata": {},
   "outputs": [
    {
     "name": "stdout",
     "output_type": "stream",
     "text": [
      "21\n",
      "               worker name            job title  \\\n",
      "275         Filippa Dengel       fry/saute cook   \n",
      "492       Kimmy Sherington      kitchen manager   \n",
      "263          Giffard Bolin          pantry cook   \n",
      "263          Giffard Bolin          pantry cook   \n",
      "227             Ripley Nix  soup and sauce cook   \n",
      "211  Virgilio Bartholomaus          pantry cook   \n",
      "384          Ravi Guiducci            line cook   \n",
      "29         Antonie Duckham            bartender   \n",
      "\n",
      "                                           skills  rating  \\\n",
      "275                 expert in fried sauteed items       4   \n",
      "492                       handles cooking/kitchen       4   \n",
      "263                               cold food items       3   \n",
      "263                               cold food items       3   \n",
      "227                           all soups and sauce       2   \n",
      "211                               cold food items       1   \n",
      "384  responsible for daily food and kitchen tasks       1   \n",
      "29                          serves the drink,food       1   \n",
      "\n",
      "                  location                                                Job  \n",
      "275         4 Dayton Place       fry/saute cook expert in fried sauteed items  \n",
      "492       5783 Kings Trail            kitchen manager handles cooking/kitchen  \n",
      "263     00045 Mayer Avenue                        pantry cook cold food items  \n",
      "263     00045 Mayer Avenue                        pantry cook cold food items  \n",
      "227       691 Burrows Road            soup and sauce cook all soups and sauce  \n",
      "211  301 Lotheville Circle                        pantry cook cold food items  \n",
      "384    933 Brentwood Alley  line cook responsible for daily food and kitch...  \n",
      "29            179 Gale Way                    bartender serves the drink,food  \n"
     ]
    }
   ],
   "source": [
    "give_rec('cook')"
   ]
  },
  {
   "cell_type": "code",
   "execution_count": 40,
   "metadata": {
    "scrolled": false
   },
   "outputs": [
    {
     "name": "stdout",
     "output_type": "stream",
     "text": [
      "46\n",
      "          worker name        job title                          skills  \\\n",
      "80      Elna Corragan          sweeper  cleaning and maintaining house   \n",
      "99   Jeremias McFaell          sweeper  cleaning and maintaining house   \n",
      "49      Shanda Neward          sweeper  cleaning and maintaining house   \n",
      "49      Shanda Neward          sweeper  cleaning and maintaining house   \n",
      "49      Shanda Neward          sweeper  cleaning and maintaining house   \n",
      "64       Ediva Bridle          sweeper  cleaning and maintaining house   \n",
      "20  Leonidas Bausmann  cleaning worker                        cleaning   \n",
      "20  Leonidas Bausmann  cleaning worker                        cleaning   \n",
      "\n",
      "    rating               location                                     Job  \n",
      "80       5       110 Elmside Pass  sweeper cleaning and maintaining house  \n",
      "99       5      5 New Castle Lane  sweeper cleaning and maintaining house  \n",
      "49       3     3 Barnett Junction  sweeper cleaning and maintaining house  \n",
      "49       3     3 Barnett Junction  sweeper cleaning and maintaining house  \n",
      "49       3     3 Barnett Junction  sweeper cleaning and maintaining house  \n",
      "64       2     0 Forest Run Plaza  sweeper cleaning and maintaining house  \n",
      "20       0  171 Continental Drive                cleaning worker cleaning  \n",
      "20       0  171 Continental Drive                cleaning worker cleaning  \n"
     ]
    }
   ],
   "source": [
    "give_rec('cleaning')"
   ]
  },
  {
   "cell_type": "code",
   "execution_count": 41,
   "metadata": {},
   "outputs": [
    {
     "name": "stdout",
     "output_type": "stream",
     "text": [
      "24\n",
      "          worker name  job title            skills  rating  \\\n",
      "13   Carolee Rembrant  carpenter  furniture making       5   \n",
      "34  Archibold Vasiliu  carpenter  furniture making       5   \n",
      "55    Malissa Satchel  carpenter  furniture making       5   \n",
      "13   Carolee Rembrant  carpenter  furniture making       5   \n",
      "13   Carolee Rembrant  carpenter  furniture making       5   \n",
      "13   Carolee Rembrant  carpenter  furniture making       5   \n",
      "13   Carolee Rembrant  carpenter  furniture making       5   \n",
      "22         Willi Bury  carpenter  furniture making       0   \n",
      "\n",
      "                 location                         Job  \n",
      "13        0097 Towne Road  carpenter furniture making  \n",
      "34       56 Warbler Plaza  carpenter furniture making  \n",
      "55  72178 John Wall Alley  carpenter furniture making  \n",
      "13        0097 Towne Road  carpenter furniture making  \n",
      "13        0097 Towne Road  carpenter furniture making  \n",
      "13        0097 Towne Road  carpenter furniture making  \n",
      "13        0097 Towne Road  carpenter furniture making  \n",
      "22      192 Dayton Avenue  carpenter furniture making  \n"
     ]
    }
   ],
   "source": [
    " give_rec('furniture making')"
   ]
  },
  {
   "cell_type": "code",
   "execution_count": 46,
   "metadata": {},
   "outputs": [
    {
     "name": "stdout",
     "output_type": "stream",
     "text": [
      "21\n",
      "               worker name            job title  \\\n",
      "275         Filippa Dengel       fry/saute cook   \n",
      "492       Kimmy Sherington      kitchen manager   \n",
      "263          Giffard Bolin          pantry cook   \n",
      "263          Giffard Bolin          pantry cook   \n",
      "227             Ripley Nix  soup and sauce cook   \n",
      "211  Virgilio Bartholomaus          pantry cook   \n",
      "384          Ravi Guiducci            line cook   \n",
      "29         Antonie Duckham            bartender   \n",
      "\n",
      "                                           skills  rating  \\\n",
      "275                 expert in fried sauteed items       4   \n",
      "492                       handles cooking/kitchen       4   \n",
      "263                               cold food items       3   \n",
      "263                               cold food items       3   \n",
      "227                           all soups and sauce       2   \n",
      "211                               cold food items       1   \n",
      "384  responsible for daily food and kitchen tasks       1   \n",
      "29                          serves the drink,food       1   \n",
      "\n",
      "                  location                                                Job  \n",
      "275         4 Dayton Place       fry/saute cook expert in fried sauteed items  \n",
      "492       5783 Kings Trail            kitchen manager handles cooking/kitchen  \n",
      "263     00045 Mayer Avenue                        pantry cook cold food items  \n",
      "263     00045 Mayer Avenue                        pantry cook cold food items  \n",
      "227       691 Burrows Road            soup and sauce cook all soups and sauce  \n",
      "211  301 Lotheville Circle                        pantry cook cold food items  \n",
      "384    933 Brentwood Alley  line cook responsible for daily food and kitch...  \n",
      "29            179 Gale Way                    bartender serves the drink,food  \n"
     ]
    }
   ],
   "source": [
    "give_rec('cook')"
   ]
  },
  {
   "cell_type": "code",
   "execution_count": null,
   "metadata": {},
   "outputs": [],
   "source": []
  }
 ],
 "metadata": {
  "kernelspec": {
   "display_name": "Python 3",
   "language": "python",
   "name": "python3"
  },
  "language_info": {
   "codemirror_mode": {
    "name": "ipython",
    "version": 3
   },
   "file_extension": ".py",
   "mimetype": "text/x-python",
   "name": "python",
   "nbconvert_exporter": "python",
   "pygments_lexer": "ipython3",
   "version": "3.7.1"
  }
 },
 "nbformat": 4,
 "nbformat_minor": 2
}
